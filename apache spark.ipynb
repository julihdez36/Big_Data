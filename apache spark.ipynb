{
 "cells": [
  {
   "cell_type": "markdown",
   "metadata": {},
   "source": [
    "# Apache spark\n",
    "Framework de procesamiento distribuido, que nos permite aumentar nuestro poder de computo. \n",
    "Distribuimos los datos entre todos los nodos que tenemos. Después a través de una maquina (nodo master) se le puede pedir algo que lo hará con sus nodos de acción. \n",
    "\n",
    "Spark corre sobre Scala y Scala corre sobre Java.\n",
    "\n",
    "Video: https://www.youtube.com/watch?v=df021jGEmPM&t=1741s\n",
    "Lista: https://www.youtube.com/watch?v=wt2wM8C2SXA&list=PLYFBiuYObvKB_k0bnkI41biMjD12t44GN\n",
    "ETL con Spark: https://www.youtube.com/watch?v=SwWs1apM5Jg "
   ]
  },
  {
   "cell_type": "code",
   "execution_count": 2,
   "metadata": {},
   "outputs": [],
   "source": [
    "from pyspark import  SparkConf, SparkContext"
   ]
  }
 ],
 "metadata": {
  "kernelspec": {
   "display_name": "Python 3",
   "language": "python",
   "name": "python3"
  },
  "language_info": {
   "codemirror_mode": {
    "name": "ipython",
    "version": 3
   },
   "file_extension": ".py",
   "mimetype": "text/x-python",
   "name": "python",
   "nbconvert_exporter": "python",
   "pygments_lexer": "ipython3",
   "version": "3.12.3"
  }
 },
 "nbformat": 4,
 "nbformat_minor": 2
}
